{
 "cells": [
  {
   "attachments": {},
   "cell_type": "markdown",
   "metadata": {},
   "source": [
    "### Surface vessel simulation\n",
    "In this notebook I will try to simulate the open-loop responses of some ship/surface vessel.\n",
    "To start, I won't worry about the thruster configuration. Instead I'll just apply various forces to the vessel and see if it behaves realistically. The model will be restricted to 3 degrees of freedom (surge, sway and yaw).\n"
   ]
  },
  {
   "attachments": {},
   "cell_type": "markdown",
   "metadata": {},
   "source": [
    "### Vessel model\n",
    "To simulate the ship, we first need to choose a model that accurately describes the motion of the ship. This includes a kinematic model, which describes the motions themselves without considering the forces involved, and a dynamic model, which models the forces that act on the vessel. \n",
    "\n",
    "I will use a 3DOF ship model as described here: https://www.ncbi.nlm.nih.gov/pmc/articles/PMC6539673/\n",
    "\n",
    "##### Definitions\n",
    "First, we define ${\\vec{\\eta}}$ and its derivative $\\dot{\\vec{\\eta}}$:\n",
    "$$ {\\eta} = [x, y, \\psi]^T $$\n",
    "$$ \\dot{\\eta} = [\\dot{x}, \\dot{y}, \\dot{\\psi}]^T $$\n",
    "\n",
    "$x$, $y$ and $\\psi$ are the cartesian coordinates and the heading of the boat in some earth-fixed reference frame (like the starting position of the vessel). This reference frame will act as our intertial frame of reference. The vector $\\vec{\\eta}$ is in this fixed reference frame.\n",
    "\n",
    "##### Kinematic model\n",
    "We want to use the velocity of the vessel in the body-fixed frame to calculate the velocity of the vessel in the earth-fixed frame.\n",
    "The velocity of the vessel in the body-fixed frame will be denoted as $v$:\n",
    "$$ \\vec{v} = [u, v, r]^T $$\n",
    "Where $u$ is the surge velocity, $v$ is the sway velocity and $r$ is the yaw rate.\n",
    "\n",
    "By applying a rotation transformation $J(\\vec{\\eta})$, we can transform the body-fixed velocities to the earth-fixed velocities $\\dot{\\vec{\\eta}}$:\n",
    "$$J(\\vec{\\eta}) = \\dot{\\vec{\\eta}} $$\n",
    "$$J = \\begin{bmatrix} \\cos{\\psi} & -\\sin{\\psi} & 0 \\\\ \\sin{\\psi} & \\cos{\\psi} & 0 \\\\ 0 & 0 & 1 \\end{bmatrix}$$\n",
    "\n",
    "##### Dynamic model\n",
    "The dynamic model describes the forces that act on the vessel. We will model the control input as a vector of three elements:\n",
    "$$ \\vec{\\tau^c} = [{\\tau^c}_{u}, {\\tau^c}_{v}, {\\tau^c}_{r}]^T $$\n",
    "Where $X$ is the surge force, $Y$ is the sway force and $N$ is the yaw moment. The model, as described in the paper is given as:\n",
    "$$ M\\dot{\\vec{v}} + C^*(\\vec{v}) + D^*(\\vec{v})\\vec{v} = \\vec{\\tau^c} + \\vec{\\tau^d} $$\n",
    "Where $M$ is the mass matrix, $C^*$ is the Coriolis matrix, $D^*$ is the damping matrix and ${\\vec{\\tau}}_E$ are the disturbances (waves and wind).\n",
    "\n",
    "In this simulation we use a simplified model with assumptions described in the paper. The simplified model is given as:\n",
    "$$ M\\dot{\\vec{v}} + C(\\vec{v}) + D(\\vec{v})\\vec{v} = \\vec{\\tau^c} + \\vec{\\tau^d} $$\n",
    "In this simplification we have removed some elements of the coriolis and damping matrices, giving us the simplified matrices $C$ and $D$. \n",
    "\n",
    "The simplified matrices are given as:\n",
    "$$ M = \n",
    "\\begin{bmatrix} \n",
    "    m - X_{\\dot{u}} & 0 & 0 \\\\\n",
    "    0 & m - Y_{\\dot{v}} & 0 \\\\ \n",
    "    0 & 0 & I_z - N_{\\dot{r}} \n",
    "\\end{bmatrix} $$\n",
    "\n",
    "$$ C(\\vec{v}) =\n",
    "\\begin{bmatrix} \n",
    "    0 & 0 & -(m-Y_{\\dot{v}})v \\\\\n",
    "    0 & 0 & (m-X_{\\dot{u}})u \\\\ \n",
    "    (m-Y_{\\dot{v}})v & -(m-X_{\\dot{u}})u & 0\n",
    "\\end{bmatrix} $$\n",
    "\n",
    "$$ D(\\vec{v})= D = -\n",
    "\\begin{bmatrix} \n",
    "    X_{u} & 0 & 0 \\\\\n",
    "    0 & Y_{v} & 0 \\\\ \n",
    "    0 & 0 & N_{r}\n",
    "\\end{bmatrix} $$"
   ]
  },
  {
   "attachments": {},
   "cell_type": "markdown",
   "metadata": {},
   "source": [
    "Finally, the 3DOF model is given as:\n",
    "\n",
    "$$ \\dot{\\vec{\\eta}} = J(\\vec{\\eta})\\vec{v} $$\n",
    "$$ M\\dot{\\vec{v}} + C(\\vec{v}) + D(\\vec{v})\\vec{v} = \\vec{\\tau} + \\vec{\\tau_E} $$\n",
    "\n",
    "In expanded form:\n",
    "$$ \\dot{x} = u\\cos{\\psi} - v\\sin{\\psi} $$\n",
    "$$ \\dot{y} = u\\sin{\\psi} + v\\cos{\\psi} $$\n",
    "$$ \\dot{\\psi} = r $$\n",
    "$$ (m - X_{\\dot{u}})\\dot{u} - (m-Y_{\\dot{v}})v\\dot{r} + X_u u = {\\tau^c}_u$$\n",
    "$$ (m-Y_{\\dot{v}})\\dot{v} + (m-X_{\\dot{u}})ur + Y_v v = {\\tau^c}_u$$\n",
    "$$ (I_z - N_{\\dot{r}})\\dot{r} - ((m-X_{\\dot{u}}) - (m-Y_{\\dot{v}}))uv + N_r r = {\\tau^c}_r$$\n",
    "\n",
    "All these parameters have to be identified for the specific vessel we want to simulate. The paper describes how to do this, but for now I will just use the parameters from the paper.\n",
    "\n",
    "##### Parameters\n",
    "The parameters for the vessel are given as:\n",
    "$$ m_{11} = m- X_{\\dot{u}} \\approx 50.05 \\text{ kg} $$\n",
    "$$ m_{22} = m- Y_{\\dot{v}} \\approx 84.36 \\text{ kg} $$\n",
    "$$ m_{33} = I_z - N_{\\dot{r}} \\approx 17.21 \\text{ kg} $$\n",
    "$$ X_u = 151.6 $$\n",
    "$$ Y_v = 132.5 $$\n",
    "$$ N_r = 34.6 $$\n",
    "\n",
    "So our matrices are given as:\n",
    "$$ M =\n",
    "\\begin{bmatrix} \n",
    "    50.05 & 0 & 0 \\\\\n",
    "    0 & 84.36 & 0 \\\\ \n",
    "    0 & 0 & 17.21\n",
    "\\end{bmatrix} $$\n",
    "$$ C(\\vec{v}) =\n",
    "\\begin{bmatrix} \n",
    "    0 & 0 & -84.36v \\\\\n",
    "    0 & 0 & 50.05u \\\\ \n",
    "    84.36v & -50.05u & 0\n",
    "\\end{bmatrix} $$\n",
    "$$ D(\\vec{v})= D = -\n",
    "\\begin{bmatrix} \n",
    "    151.6 & 0 & 0 \\\\\n",
    "    0 & 132.5 & 0 \\\\ \n",
    "    0 & 0 & 34.6\n",
    "\\end{bmatrix} $$"
   ]
  },
  {
   "attachments": {},
   "cell_type": "markdown",
   "metadata": {},
   "source": [
    "### Simulation\n",
    "Now that we have our model, we will simulate the vessel using the python library do_mpc. This library is used to simulate dynamic systems and has a built-in MPC controller. The library is built on top of CasADi, which is a library for numerical optimization. To start, we will just simulate the model with no disturbances and simple control inputs.\n",
    "\n",
    "#### Non-linear model\n",
    "The non-linear model is given as:\n",
    "$$ \\dot{\\vec{x}} = \\vec{f}(\\vec{x}, \\vec{\\tau}, \\vec{\\tau^d}) $$\n",
    "$$ \\vec{y} = \\vec{x} $$\n",
    "Where $\\vec{x}$ is the state vector and $\\vec{u}$ is the control input vector. The state vector is given as:\n",
    "$$ \\vec{x} = [x, y, \\psi, u, v, r]^T $$\n",
    "And the control input vector is given as:\n",
    "$$ \\vec{\\tau} = [\\tau_u, \\tau_v, \\tau_r]^T $$\n",
    "\n",
    "in expanded form:\n",
    "$$ \\dot{x} = u\\cos{\\psi} - v\\sin{\\psi} $$\n",
    "$$ \\dot{y} = u\\sin{\\psi} + v\\cos{\\psi} $$\n",
    "$$ \\dot{\\psi} = r $$\n",
    "$$ \\dot{u} = \\frac{m_{22}vr - X_u u + \\vec{\\tau}_u + \\vec{\\tau^d}_u}{m_{11}} $$\n",
    "$$ \\dot{v} = \\frac{-m_{11}ur - Y_v v + \\vec{\\tau}_v + \\vec{\\tau^d}_v}{m_{22}} $$\n",
    "$$ \\dot{r} = \\frac{(m_{22}-m_{11})uv - N_r r + \\vec{\\tau}_r + \\vec{\\tau^d}_r}{m_{33}} $$\n",
    "\n"
   ]
  },
  {
   "cell_type": "code",
   "execution_count": 603,
   "metadata": {},
   "outputs": [],
   "source": [
    "import do_mpc\n",
    "import numpy as np\n",
    "import matplotlib.pyplot as plt\n",
    "import matplotlib as mpl\n",
    "from numpy import sin, cos, tan, pi, exp, sqrt, arctan2\n",
    "\n",
    "model_type = 'continuous'\n",
    "model = do_mpc.model.Model(model_type)\n",
    "\n",
    "#Define the model parameters\n",
    "m_11 = 20\n",
    "m_22 = 40\n",
    "m_33 = 10\n",
    "\n",
    "Xu = 151.6\n",
    "Yv = 132.5\n",
    "Nr = 34.5\n",
    "\n",
    "# Define the model variables\n",
    "x = model.set_variable(var_type='_x', var_name='x', shape=(1,1))\n",
    "y = model.set_variable(var_type='_x', var_name='y', shape=(1,1))\n",
    "psi = model.set_variable(var_type='_x', var_name='psi', shape=(1,1))\n",
    "u = model.set_variable(var_type='_x', var_name='u', shape=(1,1))\n",
    "v = model.set_variable(var_type='_x', var_name='v', shape=(1,1))\n",
    "r = model.set_variable(var_type='_x', var_name='r', shape=(1,1))\n",
    "tau_c = model.set_variable(var_type='_u', var_name='tau_c', shape=(3,1))\n",
    "\n",
    "#for now, apply no disturbances\n",
    "#tau_d = np.array([0,0,0]).reshape(-1,1)\n",
    "\n",
    "model.set_rhs('x', u*cos(psi) - v*sin(psi))\n",
    "model.set_rhs('y', u*sin(psi) + v*cos(psi))\n",
    "model.set_rhs('psi', r)\n",
    "model.set_rhs('u', (1/m_11)*(m_22*v*r - Xu*u + tau_c[0] ))\n",
    "model.set_rhs('v', (1/m_22)*(-m_11*u*r - Yv*v + tau_c[1] ))\n",
    "model.set_rhs('r', (1/m_33)*((m_11-m_22)*u*v - Nr*r + tau_c[2] ))\n",
    "\n",
    "\n",
    "\n",
    "x0 = np.array([0,0,pi/2,0,0,0]).reshape(-1,1)\n",
    "model.x0 = x0\n",
    "model.setup()\n"
   ]
  },
  {
   "attachments": {},
   "cell_type": "markdown",
   "metadata": {},
   "source": [
    "#### Set simulation parameters"
   ]
  },
  {
   "cell_type": "code",
   "execution_count": 604,
   "metadata": {},
   "outputs": [],
   "source": [
    "simulator = do_mpc.simulator.Simulator(model)\n",
    "simulator.set_param(t_step = 0.01)\n",
    "simulator.setup()\n",
    "simulator.x0 = x0"
   ]
  },
  {
   "attachments": {},
   "cell_type": "markdown",
   "metadata": {},
   "source": [
    "#### Run simulation"
   ]
  },
  {
   "cell_type": "code",
   "execution_count": 605,
   "metadata": {},
   "outputs": [],
   "source": [
    "# Customizing Matplotlib:\n",
    "mpl.rcParams['font.size'] = 18\n",
    "mpl.rcParams['lines.linewidth'] = 3\n",
    "mpl.rcParams['axes.grid'] = True\n",
    "sim_graphics = do_mpc.graphics.Graphics(simulator.data)"
   ]
  },
  {
   "cell_type": "code",
   "execution_count": 606,
   "metadata": {},
   "outputs": [],
   "source": [
    "%%capture\n",
    "# We just want to create the plot and not show it right now. This \"inline magic\" supresses the output.\n",
    "fig, ax = plt.subplots(2, sharex=True, figsize=(10,14))\n",
    "fig.align_ylabels()"
   ]
  },
  {
   "cell_type": "code",
   "execution_count": 607,
   "metadata": {},
   "outputs": [],
   "source": [
    "#apply zero disturbance and forward thrust\n",
    "u0 = np.array([200,0,20]).reshape(-1,1)\n",
    "u1 = np.array([200,0,0]).reshape(-1,1)\n",
    "\n",
    "for i in range(500):\n",
    "    simulator.make_step(u0)\n",
    "for i in range(1000):\n",
    "    simulator.make_step(u1)\n",
    "\n"
   ]
  },
  {
   "cell_type": "code",
   "execution_count": 608,
   "metadata": {},
   "outputs": [
    {
     "data": {
      "image/png": "[encoded data removed]",
      "text/plain": [
       "<Figure size 800x800 with 1 Axes>"
      ]
     },
     "metadata": {},
     "output_type": "display_data"
    }
   ],
   "source": [
    "# Prepare the figure\n",
    "fig, ax = plt.subplots(figsize=(8,8))\n",
    "ax.set_xlabel('x')\n",
    "ax.set_ylabel('y')\n",
    "ax.set_title('Vessel trajectory')\n",
    "\n",
    "# Get the simulation data\n",
    "data = simulator.data\n",
    "\n",
    "# Extract x and y\n",
    "x_data = data['_x', 'x']\n",
    "y_data = data['_x', 'y']\n",
    "\n",
    "# Plot first 500 steps in red, the rest in blue\n",
    "ax.plot(x_data[:500], y_data[:500], 'r', label='First 500 steps')\n",
    "ax.plot(x_data[500:], y_data[500:], 'b', label='Remaining steps')\n",
    "# Make axes equal\n",
    "ax.axis('equal')\n",
    "\n",
    "plt.show()\n"
   ]
  },
  {
   "cell_type": "code",
   "execution_count": 609,
   "metadata": {},
   "outputs": [
    {
     "data": {
      "text/plain": [
       "(1500, 1)"
      ]
     },
     "execution_count": 609,
     "metadata": {},
     "output_type": "execute_result"
    }
   ],
   "source": [
    "x_data.shape"
   ]
  }
 ],
 "metadata": {
  "kernelspec": {
   "display_name": ".venv",
   "language": "python",
   "name": "python3"
  },
  "language_info": {
   "codemirror_mode": {
    "name": "ipython",
    "version": 3
   },
   "file_extension": ".py",
   "mimetype": "text/x-python",
   "name": "python",
   "nbconvert_exporter": "python",
   "pygments_lexer": "ipython3",
   "version": "3.10.6"
  },
  "orig_nbformat": 4
 },
 "nbformat": 4,
 "nbformat_minor": 2
}
