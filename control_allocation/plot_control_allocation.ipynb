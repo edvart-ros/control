{
 "cells": [
  {
   "attachments": {},
   "cell_type": "markdown",
   "metadata": {},
   "source": [
    "# Constrained thrust allocation for a marine vessel with 4 rotatable/azimuth thrusters\n",
    "The problem of control allocation, or in our case thrust allocation, is the common problem of distributing a \"total\" control effort (usually a force vector) among multiple actuators. In this example we want to solve the thrust allocation problem for a surface vessel(boat) with 4 rotatable thrusters. The task of the algorithm will be to take a desired force vector (longitudal, lateral and angular) as input, and calculate the force and angle for each individual thruster.\n",
    "\n",
    "Since we have four thrusters, but only three degrees of freedom, our system is \"overactuated\". This means that there are infinitely many solutions for individual thruster forces and angles which result in the desired total forces. In addition, we have constraints on how much force each thruster can produce (the physical limits of the thrusters), which must be considered.\n",
    "\n",
    "First, a quadratic programming approach is taken, where the problem is formulated as a quadratic cost function, which punishes the deviation between desired force and achieved force, and the total \"effort\" expended by the thrusters. The physical limit of the thrusters is also included as a hard constraint for the solver to handle.\n",
    "\n",
    "Then, the problem is solved using the moore-penrose psuedo-inverse, which given an underdetermined system, like our \"overactuated\" one, will find the \"smallest\" solution, in the L2 norm sense. This approac is less flexible, contraints are harder to enforce, but is *much* faster, as each solution is essentially a single matrix multiplication.\n",
    "\n",
    "## quadratic programming approach\n",
    "We want to achieve the generalized desired thrust $$[F_x, Fy, Mz]^T = \\vec{\\tau} = B\\vec{u}$$\n",
    "By choosing a minimal control input $\\vec{u}$ such that we achieve the desired thrust with minimal thruster effort.\n",
    "\n",
    "The thrust vector is expressed in cartesian coordinates, as 4 pairs of thrusters:\n",
    "$$ \\vec{u_k} = \\begin{bmatrix} u_{kx} & u_{ky} \\end{bmatrix}^T $$\n",
    "$$ \\vec{u} = \\begin{bmatrix} \\vec{u_1} \\\\ \\vec{u_2} \\\\ \\vec{u_3} \\\\ \\vec{u_4} \\end{bmatrix} $$\n",
    "\n",
    "The B matrix is the thruster configuration matrix, which maps control inputs (thruster forces) to forces/moments on the boat itself.\n",
    "\n",
    "A simple way to reduce effort/power consumption is to find a solution which minimizes the sum of the squares of the individual truster components:\n",
    "$$\\sum_{i=1}^4 {u}^2_{ix} + {u}^2_{iy} $$\n",
    "\n",
    "One way to solve this problem is to express it as a quadratic programming problem, where we try to minimize a quadratic cost function, subject to certain constraints.\n",
    "One formulation of this problem is:\n",
    "\n",
    "$$\\min_{\\vec{u}} \\vec{u}^T \\vec{u}$$\n",
    "$$\\textrm{subject to: } \\vec{\\tau} = B\\vec{u}$$\n",
    "\n",
    "However, this formulation is not very flexible, and may not ensure that we find a solution.\n",
    "To deal with this, we introduce a slack variable $\\vec{s} = \\begin{bmatrix} s_1 \\\\ s_2 \\\\ s_3\\end{bmatrix} $\n",
    "\n",
    "With this slack variable, we can reformulate our strict constraint to a soft constraint:\n",
    "$$ \\vec{\\tau} - B\\vec{u} = \\vec{s} $$\n",
    "To ensure that we find a solution $\\vec{u}$ which adequately approximates the equation $\\vec{\\tau} = B\\vec{u}$, we include the slack variable into our cost function, and weight it heavily. Finally, we also add a constraint such that none of the thrusters exceed their maximum thruster limits.\n",
    "\n",
    "The new formulation:\n",
    "$$\\min_{\\vec{u}} \\vec{x}^T P\\vec{x}$$\n",
    "$$\\textrm{subject to: } A\\vec{x} = \\vec{\\tau}, \\quad ||u_k|| < u_{max} $$\n",
    "\n",
    "<center> \n",
    "\n",
    "Where: $$\\vec{x} = \\begin{bmatrix} \\vec{u} \\\\ \\vec{s} \\end{bmatrix}, \\quad A = \\begin{bmatrix} B & I_{3x3} \\end{bmatrix}$$\n"
   ]
  },
  {
   "cell_type": "code",
   "execution_count": 7,
   "metadata": {},
   "outputs": [
    {
     "ename": "ValueError",
     "evalue": "Incompatible dimensions (3, 9) (11, 1)",
     "output_type": "error",
     "traceback": [
      "\u001b[0;31m---------------------------------------------------------------------------\u001b[0m",
      "\u001b[0;31mValueError\u001b[0m                                Traceback (most recent call last)",
      "Cell \u001b[0;32mIn[7], line 35\u001b[0m\n\u001b[1;32m     32\u001b[0m P \u001b[39m=\u001b[39m np\u001b[39m.\u001b[39marray(np\u001b[39m.\u001b[39mvstack((np\u001b[39m.\u001b[39mhstack((np\u001b[39m.\u001b[39meye(\u001b[39m8\u001b[39m), np\u001b[39m.\u001b[39mzeros((\u001b[39m8\u001b[39m, \u001b[39m3\u001b[39m)))), np\u001b[39m.\u001b[39mhstack((np\u001b[39m.\u001b[39mzeros((\u001b[39m3\u001b[39m, \u001b[39m8\u001b[39m)), \u001b[39m10000\u001b[39m \u001b[39m*\u001b[39m np\u001b[39m.\u001b[39meye(\u001b[39m3\u001b[39m))))))\n\u001b[1;32m     34\u001b[0m tau_\u001b[39m.\u001b[39mvalue \u001b[39m=\u001b[39m t_d \u001b[39m# set the desired generalized force for the solver\u001b[39;00m\n\u001b[0;32m---> 35\u001b[0m constraints \u001b[39m=\u001b[39m [A \u001b[39m@\u001b[39;49m x \u001b[39m==\u001b[39m tau_] \u001b[39m#add the reformulated equality constraint including slack variables\u001b[39;00m\n\u001b[1;32m     37\u001b[0m \u001b[39m#adding the constraints on maximum thruster force\u001b[39;00m\n\u001b[1;32m     38\u001b[0m \u001b[39mfor\u001b[39;00m i \u001b[39min\u001b[39;00m [\u001b[39m0\u001b[39m, \u001b[39m2\u001b[39m, \u001b[39m4\u001b[39m, \u001b[39m6\u001b[39m]:\n",
      "File \u001b[0;32m~/programming/control/.venv/lib/python3.8/site-packages/cvxpy/expressions/expression.py:745\u001b[0m, in \u001b[0;36mExpression.__array_ufunc__\u001b[0;34m(self, ufunc, method, *args, **kwargs)\u001b[0m\n\u001b[1;32m    741\u001b[0m     ufunc_handler \u001b[39m=\u001b[39m __BINARY_EXPRESSION_UFUNCS__[ufunc]\n\u001b[1;32m    742\u001b[0m     \u001b[39mif\u001b[39;00m kwargs \u001b[39m==\u001b[39m {} \u001b[39mand\u001b[39;00m \\\n\u001b[1;32m    743\u001b[0m             \u001b[39mlen\u001b[39m(args) \u001b[39m==\u001b[39m \u001b[39m2\u001b[39m \u001b[39mand\u001b[39;00m \\\n\u001b[1;32m    744\u001b[0m             args[\u001b[39m1\u001b[39m] \u001b[39mis\u001b[39;00m \u001b[39mself\u001b[39m:\n\u001b[0;32m--> 745\u001b[0m         \u001b[39mreturn\u001b[39;00m ufunc_handler(\u001b[39mself\u001b[39;49m, args[\u001b[39m0\u001b[39;49m])\n\u001b[1;32m    746\u001b[0m \u001b[39mexcept\u001b[39;00m \u001b[39mKeyError\u001b[39;00m:\n\u001b[1;32m    747\u001b[0m     \u001b[39mpass\u001b[39;00m\n",
      "File \u001b[0;32m~/programming/control/.venv/lib/python3.8/site-packages/cvxpy/expressions/expression.py:75\u001b[0m, in \u001b[0;36m<lambda>\u001b[0;34m(self, a)\u001b[0m\n\u001b[1;32m     56\u001b[0m __STAR_MATMUL_WARNING__ \u001b[39m=\u001b[39m \u001b[39m\"\"\"\u001b[39m\n\u001b[1;32m     57\u001b[0m \u001b[39mThis use of ``*`` has resulted in matrix multiplication.\u001b[39m\n\u001b[1;32m     58\u001b[0m \u001b[39mUsing ``*`` for matrix multiplication has been deprecated since CVXPY 1.1.\u001b[39m\n\u001b[0;32m   (...)\u001b[0m\n\u001b[1;32m     62\u001b[0m \u001b[39mThis code path has been hit \u001b[39m\u001b[39m%s\u001b[39;00m\u001b[39m times so far.\u001b[39m\n\u001b[1;32m     63\u001b[0m \u001b[39m\"\"\"\u001b[39m\n\u001b[1;32m     65\u001b[0m __NUMPY_UFUNC_ERROR__ \u001b[39m=\u001b[39m \u001b[39m\"\"\"\u001b[39m\n\u001b[1;32m     66\u001b[0m \u001b[39mYou\u001b[39m\u001b[39m'\u001b[39m\u001b[39mre calling a NumPy function on a CVXPY expression. This is prone to causing\u001b[39m\n\u001b[1;32m     67\u001b[0m \u001b[39merrors or code that doesn\u001b[39m\u001b[39m'\u001b[39m\u001b[39mt behave as expected. Consider using one of the\u001b[39m\n\u001b[1;32m     68\u001b[0m \u001b[39mfunctions documented here: https://www.cvxpy.org/tutorial/functions/index.html\u001b[39m\n\u001b[1;32m     69\u001b[0m \u001b[39m\"\"\"\u001b[39m\n\u001b[1;32m     70\u001b[0m __BINARY_EXPRESSION_UFUNCS__ \u001b[39m=\u001b[39m {\n\u001b[1;32m     71\u001b[0m         np\u001b[39m.\u001b[39madd: \u001b[39mlambda\u001b[39;00m \u001b[39mself\u001b[39m, a: \u001b[39mself\u001b[39m\u001b[39m.\u001b[39m\u001b[39m__radd__\u001b[39m(a),\n\u001b[1;32m     72\u001b[0m         np\u001b[39m.\u001b[39msubtract: \u001b[39mlambda\u001b[39;00m \u001b[39mself\u001b[39m, a: \u001b[39mself\u001b[39m\u001b[39m.\u001b[39m\u001b[39m__rsub__\u001b[39m(a),\n\u001b[1;32m     73\u001b[0m         np\u001b[39m.\u001b[39mmultiply: \u001b[39mlambda\u001b[39;00m \u001b[39mself\u001b[39m, a: \u001b[39mself\u001b[39m\u001b[39m.\u001b[39m\u001b[39m__rmul__\u001b[39m(a),\n\u001b[1;32m     74\u001b[0m         np\u001b[39m.\u001b[39mdivide: \u001b[39mlambda\u001b[39;00m \u001b[39mself\u001b[39m, a: \u001b[39mself\u001b[39m\u001b[39m.\u001b[39m__rdiv__(a),\n\u001b[0;32m---> 75\u001b[0m         np\u001b[39m.\u001b[39mmatmul: \u001b[39mlambda\u001b[39;00m \u001b[39mself\u001b[39m, a: \u001b[39mself\u001b[39;49m\u001b[39m.\u001b[39;49m\u001b[39m__rmatmul__\u001b[39;49m(a),\n\u001b[1;32m     76\u001b[0m         np\u001b[39m.\u001b[39mpower: \u001b[39mlambda\u001b[39;00m \u001b[39mself\u001b[39m, a: \u001b[39mself\u001b[39m\u001b[39m.\u001b[39m\u001b[39m__rpow__\u001b[39m(a),\n\u001b[1;32m     77\u001b[0m         np\u001b[39m.\u001b[39mleft_shift: \u001b[39mlambda\u001b[39;00m \u001b[39mself\u001b[39m, a: \u001b[39mself\u001b[39m\u001b[39m.\u001b[39m\u001b[39m__rlshift__\u001b[39m(a),\n\u001b[1;32m     78\u001b[0m         np\u001b[39m.\u001b[39mright_shift: \u001b[39mlambda\u001b[39;00m \u001b[39mself\u001b[39m, a: \u001b[39mself\u001b[39m\u001b[39m.\u001b[39m\u001b[39m__rrshift__\u001b[39m(a),\n\u001b[1;32m     79\u001b[0m         np\u001b[39m.\u001b[39mequal: \u001b[39mlambda\u001b[39;00m \u001b[39mself\u001b[39m, a: \u001b[39mself\u001b[39m\u001b[39m.\u001b[39m\u001b[39m__eq__\u001b[39m(a),\n\u001b[1;32m     80\u001b[0m         \u001b[39m# <= and >= are backwards because this is only called for code of the\u001b[39;00m\n\u001b[1;32m     81\u001b[0m         \u001b[39m# form ndarray <= Expression\u001b[39;00m\n\u001b[1;32m     82\u001b[0m         np\u001b[39m.\u001b[39mless_equal: \u001b[39mlambda\u001b[39;00m \u001b[39mself\u001b[39m, a: \u001b[39mself\u001b[39m\u001b[39m.\u001b[39m\u001b[39m__ge__\u001b[39m(a),\n\u001b[1;32m     83\u001b[0m         np\u001b[39m.\u001b[39mgreater_equal: \u001b[39mlambda\u001b[39;00m \u001b[39mself\u001b[39m, a: \u001b[39mself\u001b[39m\u001b[39m.\u001b[39m\u001b[39m__le__\u001b[39m(a),\n\u001b[1;32m     84\u001b[0m         np\u001b[39m.\u001b[39mless: \u001b[39mlambda\u001b[39;00m \u001b[39mself\u001b[39m, a: \u001b[39mself\u001b[39m\u001b[39m.\u001b[39m\u001b[39m__gt__\u001b[39m(a),\n\u001b[1;32m     85\u001b[0m         np\u001b[39m.\u001b[39mgreater: \u001b[39mlambda\u001b[39;00m \u001b[39mself\u001b[39m, a: \u001b[39mself\u001b[39m\u001b[39m.\u001b[39m\u001b[39m__lt__\u001b[39m(a),\n\u001b[1;32m     86\u001b[0m }\n\u001b[1;32m     89\u001b[0m \u001b[39mclass\u001b[39;00m \u001b[39mExpression\u001b[39;00m(u\u001b[39m.\u001b[39mCanonical):\n\u001b[1;32m     90\u001b[0m \u001b[39m    \u001b[39m\u001b[39m\"\"\"A mathematical expression in a convex optimization problem.\u001b[39;00m\n\u001b[1;32m     91\u001b[0m \n\u001b[1;32m     92\u001b[0m \u001b[39m    Overloads many operators to allow for convenient creation of compound\u001b[39;00m\n\u001b[1;32m     93\u001b[0m \u001b[39m    expressions (e.g., the sum of two expressions) and constraints.\u001b[39;00m\n\u001b[1;32m     94\u001b[0m \u001b[39m    \"\"\"\u001b[39;00m\n",
      "File \u001b[0;32m~/programming/control/.venv/lib/python3.8/site-packages/cvxpy/expressions/expression.py:50\u001b[0m, in \u001b[0;36m_cast_other.<locals>.cast_op\u001b[0;34m(self, other)\u001b[0m\n\u001b[1;32m     47\u001b[0m \u001b[39m\u001b[39m\u001b[39m\"\"\"A wrapped binary operator that can handle non-Expression arguments.\u001b[39;00m\n\u001b[1;32m     48\u001b[0m \u001b[39m\"\"\"\u001b[39;00m\n\u001b[1;32m     49\u001b[0m other \u001b[39m=\u001b[39m \u001b[39mself\u001b[39m\u001b[39m.\u001b[39mcast_to_const(other)\n\u001b[0;32m---> 50\u001b[0m \u001b[39mreturn\u001b[39;00m binary_op(\u001b[39mself\u001b[39;49m, other)\n",
      "File \u001b[0;32m~/programming/control/.venv/lib/python3.8/site-packages/cvxpy/expressions/expression.py:675\u001b[0m, in \u001b[0;36mExpression.__rmatmul__\u001b[0;34m(self, other)\u001b[0m\n\u001b[1;32m    673\u001b[0m \u001b[39mif\u001b[39;00m \u001b[39mself\u001b[39m\u001b[39m.\u001b[39mshape \u001b[39m==\u001b[39m () \u001b[39mor\u001b[39;00m other\u001b[39m.\u001b[39mshape \u001b[39m==\u001b[39m ():\n\u001b[1;32m    674\u001b[0m     \u001b[39mraise\u001b[39;00m \u001b[39mValueError\u001b[39;00m(\u001b[39m\"\u001b[39m\u001b[39mScalar operands are not allowed, use \u001b[39m\u001b[39m'\u001b[39m\u001b[39m*\u001b[39m\u001b[39m'\u001b[39m\u001b[39m instead\u001b[39m\u001b[39m\"\u001b[39m)\n\u001b[0;32m--> 675\u001b[0m \u001b[39mreturn\u001b[39;00m cvxtypes\u001b[39m.\u001b[39;49mmatmul_expr()(other, \u001b[39mself\u001b[39;49m)\n",
      "File \u001b[0;32m~/programming/control/.venv/lib/python3.8/site-packages/cvxpy/atoms/affine/binary_operators.py:50\u001b[0m, in \u001b[0;36mBinaryOperator.__init__\u001b[0;34m(self, lh_exp, rh_exp)\u001b[0m\n\u001b[1;32m     49\u001b[0m \u001b[39mdef\u001b[39;00m \u001b[39m__init__\u001b[39m(\u001b[39mself\u001b[39m, lh_exp, rh_exp) \u001b[39m-\u001b[39m\u001b[39m>\u001b[39m \u001b[39mNone\u001b[39;00m:\n\u001b[0;32m---> 50\u001b[0m     \u001b[39msuper\u001b[39;49m(BinaryOperator, \u001b[39mself\u001b[39;49m)\u001b[39m.\u001b[39;49m\u001b[39m__init__\u001b[39;49m(lh_exp, rh_exp)\n",
      "File \u001b[0;32m~/programming/control/.venv/lib/python3.8/site-packages/cvxpy/atoms/atom.py:51\u001b[0m, in \u001b[0;36mAtom.__init__\u001b[0;34m(self, *args)\u001b[0m\n\u001b[1;32m     49\u001b[0m \u001b[39mself\u001b[39m\u001b[39m.\u001b[39margs \u001b[39m=\u001b[39m [Atom\u001b[39m.\u001b[39mcast_to_const(arg) \u001b[39mfor\u001b[39;00m arg \u001b[39min\u001b[39;00m args]\n\u001b[1;32m     50\u001b[0m \u001b[39mself\u001b[39m\u001b[39m.\u001b[39mvalidate_arguments()\n\u001b[0;32m---> 51\u001b[0m \u001b[39mself\u001b[39m\u001b[39m.\u001b[39m_shape \u001b[39m=\u001b[39m \u001b[39mself\u001b[39;49m\u001b[39m.\u001b[39;49mshape_from_args()\n\u001b[1;32m     52\u001b[0m \u001b[39mif\u001b[39;00m \u001b[39mlen\u001b[39m(\u001b[39mself\u001b[39m\u001b[39m.\u001b[39m_shape) \u001b[39m>\u001b[39m \u001b[39m2\u001b[39m:\n\u001b[1;32m     53\u001b[0m     \u001b[39mraise\u001b[39;00m \u001b[39mValueError\u001b[39;00m(\u001b[39m\"\u001b[39m\u001b[39mAtoms must be at most 2D.\u001b[39m\u001b[39m\"\u001b[39m)\n",
      "File \u001b[0;32m~/programming/control/.venv/lib/python3.8/site-packages/cvxpy/atoms/affine/binary_operators.py:120\u001b[0m, in \u001b[0;36mMulExpression.shape_from_args\u001b[0;34m(self)\u001b[0m\n\u001b[1;32m    117\u001b[0m \u001b[39mdef\u001b[39;00m \u001b[39mshape_from_args\u001b[39m(\u001b[39mself\u001b[39m) \u001b[39m-\u001b[39m\u001b[39m>\u001b[39m Tuple[\u001b[39mint\u001b[39m, \u001b[39m.\u001b[39m\u001b[39m.\u001b[39m\u001b[39m.\u001b[39m]:\n\u001b[1;32m    118\u001b[0m \u001b[39m    \u001b[39m\u001b[39m\"\"\"Returns the (row, col) shape of the expression.\u001b[39;00m\n\u001b[1;32m    119\u001b[0m \u001b[39m    \"\"\"\u001b[39;00m\n\u001b[0;32m--> 120\u001b[0m     \u001b[39mreturn\u001b[39;00m u\u001b[39m.\u001b[39;49mshape\u001b[39m.\u001b[39;49mmul_shapes(\u001b[39mself\u001b[39;49m\u001b[39m.\u001b[39;49margs[\u001b[39m0\u001b[39;49m]\u001b[39m.\u001b[39;49mshape, \u001b[39mself\u001b[39;49m\u001b[39m.\u001b[39;49margs[\u001b[39m1\u001b[39;49m]\u001b[39m.\u001b[39;49mshape)\n",
      "File \u001b[0;32m~/programming/control/.venv/lib/python3.8/site-packages/cvxpy/utilities/shape.py:144\u001b[0m, in \u001b[0;36mmul_shapes\u001b[0;34m(lh_shape, rh_shape)\u001b[0m\n\u001b[1;32m    142\u001b[0m lh_old \u001b[39m=\u001b[39m lh_shape\n\u001b[1;32m    143\u001b[0m rh_old \u001b[39m=\u001b[39m rh_shape\n\u001b[0;32m--> 144\u001b[0m lh_shape, rh_shape, shape \u001b[39m=\u001b[39m mul_shapes_promote(lh_shape, rh_shape)\n\u001b[1;32m    145\u001b[0m \u001b[39mif\u001b[39;00m lh_shape \u001b[39m!=\u001b[39m lh_old:\n\u001b[1;32m    146\u001b[0m     shape \u001b[39m=\u001b[39m shape[\u001b[39m1\u001b[39m:]\n",
      "File \u001b[0;32m~/programming/control/.venv/lib/python3.8/site-packages/cvxpy/utilities/shape.py:110\u001b[0m, in \u001b[0;36mmul_shapes_promote\u001b[0;34m(lh_shape, rh_shape)\u001b[0m\n\u001b[1;32m    108\u001b[0m rh_mat_shape \u001b[39m=\u001b[39m rh_shape[\u001b[39m-\u001b[39m\u001b[39m2\u001b[39m:]\n\u001b[1;32m    109\u001b[0m \u001b[39mif\u001b[39;00m lh_mat_shape[\u001b[39m1\u001b[39m] \u001b[39m!=\u001b[39m rh_mat_shape[\u001b[39m0\u001b[39m]:\n\u001b[0;32m--> 110\u001b[0m     \u001b[39mraise\u001b[39;00m \u001b[39mValueError\u001b[39;00m(\u001b[39m\"\u001b[39m\u001b[39mIncompatible dimensions \u001b[39m\u001b[39m%s\u001b[39;00m\u001b[39m \u001b[39m\u001b[39m%s\u001b[39;00m\u001b[39m\"\u001b[39m \u001b[39m%\u001b[39m (\n\u001b[1;32m    111\u001b[0m         lh_shape, rh_shape))\n\u001b[1;32m    112\u001b[0m \u001b[39mif\u001b[39;00m lh_shape[:\u001b[39m-\u001b[39m\u001b[39m2\u001b[39m] \u001b[39m!=\u001b[39m rh_shape[:\u001b[39m-\u001b[39m\u001b[39m2\u001b[39m]:\n\u001b[1;32m    113\u001b[0m     \u001b[39mraise\u001b[39;00m \u001b[39mValueError\u001b[39;00m(\u001b[39m\"\u001b[39m\u001b[39mIncompatible dimensions \u001b[39m\u001b[39m%s\u001b[39;00m\u001b[39m \u001b[39m\u001b[39m%s\u001b[39;00m\u001b[39m\"\u001b[39m \u001b[39m%\u001b[39m (\n\u001b[1;32m    114\u001b[0m         lh_shape, rh_shape))\n",
      "\u001b[0;31mValueError\u001b[0m: Incompatible dimensions (3, 9) (11, 1)"
     ]
    }
   ],
   "source": [
    "import numpy as np\n",
    "import matplotlib.pyplot as plt\n",
    "import ipywidgets\n",
    "import cvxpy as cp\n",
    "\n",
    "#defining the thruster configuration matrix B (contains the positions of the thrusters)\n",
    "l1_x = -1\n",
    "l1_y = -0.6\n",
    "l2_x = -1\n",
    "l2_y = 0.6\n",
    "l3_x = 1\n",
    "l3_y = -0.6\n",
    "l4_x = 1\n",
    "l4_y = 0.6\n",
    "thruster_max = 2\n",
    "t_d = np.array([5, 0, 0])  # example desired generalized force\n",
    "B = np.matrix(np.array([[  1,     0,     1,     0,     1,     0,     1,     0  ],  # thruster configuration matrix\n",
    "                        [  0,     1,     0,     1,     0,     1,     0,     1  ],\n",
    "                        [-l1_y,  l1_x, -l2_y,  l2_x, -l3_y,  l3_x, -l4_y,  l4_x]]))\n",
    "\n",
    "\n",
    "A = np.array(np.hstack((B, np.eye(3))))  # A = [B, I]\n",
    "tau_ = cp.Parameter(3) # desired generalized force\n",
    "x = cp.Variable(11) # x = [u ; s]\n",
    "#constructing the weight matrix, weighting s heavily to ensure a good approximation of the solution\n",
    "P = np.array(np.vstack((np.hstack((np.eye(8), np.zeros((8, 3)))), np.hstack((np.zeros((3, 8)), 10000 * np.eye(3))))))\n",
    "\n",
    "tau_.value = t_d # set the desired generalized force for the solver\n",
    "constraints = [A @ x == tau_] #add the reformulated equality constraint including slack variables\n",
    "\n",
    "#adding the constraints on maximum thruster force\n",
    "for i in [0, 2, 4, 6]:\n",
    "    constraints.append(x[i]**2 + x[i+1]**2 <= thruster_max)\n",
    "\n",
    "\n",
    "prob = cp.Problem(cp.Minimize(cp.quad_form(x, P)), constraints) #define the optimization problem\n",
    "prob.solve()\n",
    "\n"
   ]
  },
  {
   "cell_type": "code",
   "execution_count": 2,
   "metadata": {},
   "outputs": [],
   "source": [
    "def plot_fcn(Fx=0, Fy=0, Mz=0):\n",
    "    tau_.value = np.array([Fx, Fy, Mz])\n",
    "    prob.solve()\n",
    "\n",
    "    #individual thruster forces\n",
    "    u = x.value[0:8]\n",
    "    u_1 = u[0:2]\n",
    "    u_2 = u[2:4]\n",
    "    u_3 = u[4:6]\n",
    "    u_4 = u[6:8]\n",
    "    #u = u_1 + u_2 + u_3 + u_4\n",
    "\n",
    "    plt.arrow(l1_y, l1_x, u_1[1], u_1[0], head_width=0.1, head_length=0.1, fc='k', ec='k')\n",
    "    plt.arrow(l2_y, l2_x, u_2[1], u_2[0], head_width=0.1, head_length=0.1, fc='k', ec='k')\n",
    "    plt.arrow(l3_y, l3_x, u_3[1], u_3[0], head_width=0.1, head_length=0.1, fc='k', ec='k')\n",
    "    plt.arrow(l4_y, l4_x, u_4[1], u_4[0], head_width=0.1, head_length=0.1, fc='k', ec='k')\n",
    "\n",
    "    plt.arrow(0, 0, u[1]/4, u[0]/4, head_width=0.1, head_length=0.1, fc='r', ec='r')\n",
    "    #limit axes\n",
    "    plt.xlim(-3, 3)\n",
    "    plt.ylim(-3, 3)\n",
    "\n",
    "    plt.grid()\n",
    "    plt.plot()\n",
    "\n"
   ]
  },
  {
   "cell_type": "code",
   "execution_count": 3,
   "metadata": {},
   "outputs": [
    {
     "data": {
      "application/vnd.jupyter.widget-view+json": {
       "model_id": "9aa4e7da1adb4a53b5258e4860dfce15",
       "version_major": 2,
       "version_minor": 0
      },
      "text/plain": [
       "interactive(children=(FloatSlider(value=0.0, description='Fx', max=7.0, min=-7.0), FloatSlider(value=0.0, desc…"
      ]
     },
     "metadata": {},
     "output_type": "display_data"
    },
    {
     "data": {
      "text/plain": [
       "<function __main__.plot_fcn(Fx=0, Fy=0, Mz=0)>"
      ]
     },
     "execution_count": 3,
     "metadata": {},
     "output_type": "execute_result"
    }
   ],
   "source": [
    "ipywidgets.interact(plot_fcn, Fx=(-7, 7, 0.1), Fy=(-7, 7, 0.1), Mz=(-7, 7, 0.1))"
   ]
  },
  {
   "attachments": {},
   "cell_type": "markdown",
   "metadata": {},
   "source": [
    "## psuedo-inverse approach\n",
    "Now, let's try to solve the same problem using the psuedo-inverse.\n",
    "We want to find a solution to the problem:\n",
    "$$\\vec{\\tau} = B\\vec{u} $$\n",
    "In a way that gives us the smallest control effort $\\vec{u}$.\n",
    "One way to do this is to minimize the \"norm\" of u. Specifically, we will minimize the function:\n",
    "$$\\sum_i {u_i}^2$$\n",
    "Solving this problem will minimize the sum of the vector components, which will hopefully minimize power consumption.\n",
    "An explicit solution to this least-squares problem is given by the moore-penrose psuedo-inverse.\n",
    "\n",
    "Specifically, the solution to $\\vec{\\tau} = B\\vec{u}$ which minimizes the norm of $\\vec{u}$, is given by:\n",
    "$$B^+\\vec{\\tau}$$ \n",
    "Where $B^+$ denotes the psuedo-inverse of B.\n",
    "\n",
    "The psuedo-inverse of B can be computed via the singular value decomposition(SVD) of B:\n",
    "$$B = U\\Sigma V^T$$\n",
    "$$B^+ = V{\\Sigma}^{-1} U^T$$\n",
    "\n",
    "Or, by simply using numpy's pinv metod. \n",
    "\n",
    "To enforce the constraint on maximum thruster force, we can simply check whether the psuedo-inverse solution violates the constraint, then normalize the thruster forces to avoid the violation.\n",
    "\n",
    "This approach is much faster than the QP formulation, as the we only have to compute the SVD once, and perform a single matrix multiplication and a few conditionals for each control allocation. The downside of the approach is that it's less flexible to more complicated constraints and considerations."
   ]
  },
  {
   "cell_type": "code",
   "execution_count": 4,
   "metadata": {},
   "outputs": [],
   "source": [
    "#compute the psuedo-inverse of B using the numpy pinv\n",
    "B_pinv = np.linalg.pinv(B)\n",
    "tau = np.array([[10],[10],[0]])\n",
    "u = B_pinv @ tau"
   ]
  },
  {
   "cell_type": "code",
   "execution_count": 5,
   "metadata": {},
   "outputs": [],
   "source": [
    "def plot_fcn_pinv(Fx=0, Fy=0, Mz=0):\n",
    "    tau = np.hstack([Fx, Fy, Mz])\n",
    "    u = B_pinv @ tau\n",
    "\n",
    "    #calculate the thrust pair forces\n",
    "    f = np.zeros(4)\n",
    "    for i in range(4):\n",
    "        f[i] = np.linalg.norm(u[2*i:2*i+2])\n",
    "    if np.max(f) > thruster_max:\n",
    "        u = u * thruster_max / np.max(f)\n",
    "\n",
    "    u_1 = u[0, 0:2]\n",
    "    u_2 = u[0, 2:4]\n",
    "    u_3 = u[0, 4:6]\n",
    "    u_4 = u[0, 6:8]\n",
    "\n",
    "\n",
    "    u = u_1 + u_2 + u_3 + u_4\n",
    "\n",
    "    plt.arrow(l1_y, l1_x, u_1[0, 1], u_1[0, 0], head_width=0.1, head_length=0.1, fc='k', ec='k')\n",
    "    plt.arrow(l2_y, l2_x, u_2[0, 1], u_2[0, 0], head_width=0.1, head_length=0.1, fc='k', ec='k')\n",
    "    plt.arrow(l3_y, l3_x, u_3[0, 1], u_3[0, 0], head_width=0.1, head_length=0.1, fc='k', ec='k')\n",
    "    plt.arrow(l4_y, l4_x, u_4[0, 1], u_4[0, 0], head_width=0.1, head_length=0.1, fc='k', ec='k')\n",
    "\n",
    "    plt.arrow(0, 0, u[0, 1]/4, u[0, 0]/4, head_width=0.1, head_length=0.1, fc='r', ec='r')\n",
    "    #limit axes\n",
    "    plt.xlim(-3, 3)\n",
    "    plt.ylim(-3, 3)\n",
    "\n",
    "    plt.grid()\n",
    "    plt.plot()\n"
   ]
  },
  {
   "cell_type": "code",
   "execution_count": 6,
   "metadata": {},
   "outputs": [
    {
     "data": {
      "application/vnd.jupyter.widget-view+json": {
       "model_id": "06bccb62a0714da8a2f99f8dc79e02c8",
       "version_major": 2,
       "version_minor": 0
      },
      "text/plain": [
       "interactive(children=(FloatSlider(value=0.0, description='Fx', max=7.0, min=-7.0), FloatSlider(value=0.0, desc…"
      ]
     },
     "metadata": {},
     "output_type": "display_data"
    },
    {
     "data": {
      "text/plain": [
       "<function __main__.plot_fcn_pinv(Fx=0, Fy=0, Mz=0)>"
      ]
     },
     "execution_count": 6,
     "metadata": {},
     "output_type": "execute_result"
    }
   ],
   "source": [
    "ipywidgets.interact(plot_fcn_pinv, Fx=(-7, 7, 0.1), Fy=(-7, 7, 0.1), Mz=(-7, 7, 0.1))"
   ]
  },
  {
   "attachments": {},
   "cell_type": "markdown",
   "metadata": {},
   "source": [
    "### Fixed thruster configuration (X + Bow)"
   ]
  },
  {
   "cell_type": "code",
   "execution_count": 81,
   "metadata": {},
   "outputs": [],
   "source": [
    "#rear left\n",
    "L1_X = -2.373776 \n",
    "L1_Y = 1.027135\n",
    "D_1 = np.sqrt(L1_X**2 + L1_Y**2)\n",
    "#rear right\n",
    "L2_X = -2.373776 \n",
    "L2_Y = -1.027135\n",
    "D_2 = np.sqrt(L2_X**2 + L2_Y**2)\n",
    "#front left\n",
    "L3_X = 1.75\n",
    "L3_Y = 1.027135\n",
    "D_3 = np.sqrt(L3_X**2 + L3_Y**2)\n",
    "#front right\n",
    "L4_X = 1.75\n",
    "L4_Y = -1.027135\n",
    "D_4 = np.sqrt(L4_X**2 + L4_Y**2)\n",
    "\n",
    "THRUST_LIMIT = 200\n",
    "ANGLE_LIMIT = np.pi*0.8 #bi-directional\n",
    "theta = np.pi/4\n",
    "\n",
    "B_x = np.matrix(np.array([[ np.cos(theta),       np.cos(theta),        0,     0  ],  # thruster configuration matrix\n",
    "                          [ np.sin(theta),      -np.sin(theta),       1,    -1  ],\n",
    "                          [-D_1*np.sin(theta),   D_2*np.sin(theta),  L3_X,  -L4_X ]]))\n",
    "B_pinv_x = np.linalg.pinv(B_x)"
   ]
  },
  {
   "cell_type": "code",
   "execution_count": 82,
   "metadata": {},
   "outputs": [],
   "source": [
    "def plot_fcn_pinv_X(Fx=0, Fy=0, Mz=0):\n",
    "    tau = np.hstack([Fx, Fy, Mz])\n",
    "    u = B_pinv_x @ tau\n",
    "\n",
    "    plt.arrow(l1_y, l1_x, u[0,0]*np.cos(np.pi/4), u[0,0]*np.cos(np.pi/4), head_width=0.1, head_length=0.1, fc='k', ec='k')\n",
    "    plt.arrow(l2_y, l2_x, -u[0,1]*np.sin(np.pi/4), u[0,1]*np.cos(np.pi/4), head_width=0.1, head_length=0.1, fc='k', ec='k')\n",
    "    plt.arrow(l3_y, l3_x, 0, u[0,2], head_width=0.1, head_length=0.1, fc='k', ec='k')\n",
    "    plt.arrow(l4_y, l4_x, 0, u[0,3], head_width=0.1, head_length=0.1, fc='k', ec='k')\n",
    "\n",
    "    #limit axes\n",
    "    plt.xlim(-3, 3)\n",
    "    plt.ylim(-3, 3)\n",
    "\n",
    "    plt.grid()\n",
    "    plt.plot()\n"
   ]
  },
  {
   "cell_type": "code",
   "execution_count": 71,
   "metadata": {},
   "outputs": [
    {
     "data": {
      "text/plain": [
       "matrix([[ 7.07106781e+00],\n",
       "        [-7.07106781e+00],\n",
       "        [ 3.08338684e-15],\n",
       "        [-1.63587694e-15]])"
      ]
     },
     "execution_count": 71,
     "metadata": {},
     "output_type": "execute_result"
    }
   ],
   "source": [
    "tau = np.array([[0],[10],[0]])\n",
    "u = B_pinv_x @ tau\n",
    "u\n"
   ]
  },
  {
   "cell_type": "code",
   "execution_count": 72,
   "metadata": {},
   "outputs": [
    {
     "data": {
      "application/vnd.jupyter.widget-view+json": {
       "model_id": "12cbf32941ff443ea3f77b34ea344b93",
       "version_major": 2,
       "version_minor": 0
      },
      "text/plain": [
       "interactive(children=(FloatSlider(value=0.0, description='Fx', max=7.0, min=-7.0), FloatSlider(value=0.0, desc…"
      ]
     },
     "metadata": {},
     "output_type": "display_data"
    },
    {
     "data": {
      "text/plain": [
       "<function __main__.plot_fcn_pinv_X(Fx=0, Fy=0, Mz=0)>"
      ]
     },
     "execution_count": 72,
     "metadata": {},
     "output_type": "execute_result"
    }
   ],
   "source": [
    "ipywidgets.interact(plot_fcn_pinv_X, Fx=(-7, 7, 0.1), Fy=(-7, 7, 0.1), Mz=(-7, 7, 0.1))\n"
   ]
  }
 ],
 "metadata": {
  "kernelspec": {
   "display_name": "general_venv",
   "language": "python",
   "name": "python3"
  },
  "language_info": {
   "codemirror_mode": {
    "name": "ipython",
    "version": 3
   },
   "file_extension": ".py",
   "mimetype": "text/x-python",
   "name": "python",
   "nbconvert_exporter": "python",
   "pygments_lexer": "ipython3",
   "version": "3.8.10"
  },
  "orig_nbformat": 4
 },
 "nbformat": 4,
 "nbformat_minor": 2
}
