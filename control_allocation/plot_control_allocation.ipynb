{
 "cells": [
  {
   "attachments": {},
   "cell_type": "markdown",
   "metadata": {},
   "source": [
    "# Constrained thrust allocation for a marine vessel with 4 rotatable/azimuth thrusters\n",
    "The problem of control allocation, or in our case thrust allocation, is the common problem of distributing a \"total\" control effort (usually a force vector) among multiple actuators. In this example we want to solve the thrust allocation problem for a surface vessel(boat) with 4 rotatable thrusters. The task of the algorithm will be to take a desired force vector (longitudal, lateral and angular) as input, and calculate the force and angle for each individual thruster.\n",
    "\n",
    "Since we have four thrusters, but only three degrees of freedom, our system is \"overactuated\". This means that there are infinitely many solutions for individual thruster forces and angles which result in the desired total forces. In addition, we have constraints on how much force each thruster can produce (the physical limits of the thrusters), which must be considered.\n",
    "\n",
    "First, a quadratic programming approach is taken, where the problem is formulated as a quadratic cost function, which punishes the deviation between desired force and achieved force, and the total \"effort\" expended by the thrusters. The physical limit of the thrusters is also included as a hard constraint for the solver to handle.\n",
    "\n",
    "Then, the problem is solved using the moore-penrose psuedo-inverse, which given an underdetermined system, like our \"overactuated\" one, will find the \"smallest\" solution, in the L2 norm sense. This approac is less flexible, contraints are harder to enforce, but is *much* faster, as each solution is essentially a single matrix multiplication.\n",
    "\n",
    "## quadratic programming approach\n",
    "We want to achieve the generalized desired thrust $$[F_x, Fy, Mz]^T = \\vec{\\tau} = B\\vec{u}$$\n",
    "By choosing a minimal control input $\\vec{u}$ such that we achieve the desired thrust with minimal thruster effort.\n",
    "\n",
    "The thrust vector is expressed in cartesian coordinates, as 4 pairs of thrusters:\n",
    "$$ \\vec{u_k} = \\begin{bmatrix} u_{kx} & u_{ky} \\end{bmatrix}^T $$\n",
    "$$ \\vec{u} = \\begin{bmatrix} \\vec{u_1} \\\\ \\vec{u_2} \\\\ \\vec{u_3} \\\\ \\vec{u_4} \\end{bmatrix} $$\n",
    "\n",
    "The B matrix is the thruster configuration matrix, which maps control inputs (thruster forces) to forces/moments on the boat itself.\n",
    "\n",
    "A simple way to reduce effort/power consumption is to find a solution which minimizes the sum of the squares of the individual truster components:\n",
    "$$\\sum_{i=1}^4 {u}^2_{ix} + {u}^2_{iy} $$\n",
    "\n",
    "One way to solve this problem is to express it as a quadratic programming problem, where we try to minimize a quadratic cost function, subject to certain constraints.\n",
    "One formulation of this problem is:\n",
    "\n",
    "$$\\min_{\\vec{u}} \\vec{u}^T \\vec{u}$$\n",
    "$$\\textrm{subject to: } \\vec{\\tau} = B\\vec{u}$$\n",
    "\n",
    "However, this formulation is not very flexible, and may not ensure that we find a solution.\n",
    "To deal with this, we introduce a slack variable $\\vec{s} = \\begin{bmatrix} s_1 \\\\ s_2 \\\\ s_3\\end{bmatrix} $\n",
    "\n",
    "With this slack variable, we can reformulate our strict constraint to a soft constraint:\n",
    "$$ \\vec{\\tau} - B\\vec{u} = \\vec{s} $$\n",
    "To ensure that we find a solution $\\vec{u}$ which adequately approximates the equation $\\vec{\\tau} = B\\vec{u}$, we include the slack variable into our cost function, and weight it heavily. Finally, we also add a constraint such that none of the thrusters exceed their maximum thruster limits.\n",
    "\n",
    "The new formulation:\n",
    "$$\\min_{\\vec{u}} \\vec{x}^T P\\vec{x}$$\n",
    "$$\\textrm{subject to: } A\\vec{x} = \\vec{\\tau}, \\quad ||u_k|| < u_{max} $$\n",
    "\n",
    "<center> \n",
    "\n",
    "Where: $$\\vec{x} = \\begin{bmatrix} \\vec{u} \\\\ \\vec{s} \\end{bmatrix}, \\quad A = \\begin{bmatrix} B & I_{3x3} \\end{bmatrix}$$\n"
   ]
  },
  {
   "cell_type": "code",
   "execution_count": 2,
   "metadata": {},
   "outputs": [
    {
     "data": {
      "text/plain": [
       "6.249843753950148"
      ]
     },
     "execution_count": 2,
     "metadata": {},
     "output_type": "execute_result"
    }
   ],
   "source": [
    "import numpy as np\n",
    "import matplotlib.pyplot as plt\n",
    "import ipywidgets\n",
    "import cvxpy as cp\n",
    "\n",
    "#defining the thruster configuration matrix B (contains the positions of the thrusters)\n",
    "l1_x = -1\n",
    "l1_y = -0.6\n",
    "l2_x = -1\n",
    "l2_y = 0.6\n",
    "l3_x = 1\n",
    "l3_y = -0.6\n",
    "l4_x = 1\n",
    "l4_y = 0.6\n",
    "thruster_max = 2\n",
    "t_d = np.array([5, 0, 0])  # example desired generalized force\n",
    "B = np.matrix(np.array([[  1,     0,     1,     0,     1,     0,     1,     0  ],  # thruster configuration matrix\n",
    "                        [  0,     1,     0,     1,     0,     1,     0,     1  ],\n",
    "                        [-l1_y,  l1_x, -l2_y,  l2_x, -l3_y,  l3_x, -l4_y,  l4_x]]))\n",
    "\n",
    "\n",
    "A = np.array(np.hstack((B, np.eye(3))))  # A = [B, I]\n",
    "tau_ = cp.Parameter(3) # desired generalized force\n",
    "x = cp.Variable(11) # x = [u ; s]\n",
    "#constructing the weight matrix, weighting s heavily to ensure a good approximation of the solution\n",
    "P = np.array(np.vstack((np.hstack((np.eye(8), np.zeros((8, 3)))), np.hstack((np.zeros((3, 8)), 10000 * np.eye(3))))))\n",
    "\n",
    "tau_.value = t_d # set the desired generalized force for the solver\n",
    "constraints = [A @ x == tau_] #add the reformulated equality constraint including slack variables\n",
    "\n",
    "#adding the constraints on maximum thruster force\n",
    "for i in [0, 2, 4, 6]:\n",
    "    constraints.append(x[i]**2 + x[i+1]**2 <= thruster_max)\n",
    "\n",
    "\n",
    "prob = cp.Problem(cp.Minimize(cp.quad_form(x, P)), constraints) #define the optimization problem\n",
    "prob.solve()\n",
    "\n"
   ]
  },
  {
   "cell_type": "code",
   "execution_count": 3,
   "metadata": {},
   "outputs": [],
   "source": [
    "def plot_fcn(Fx=0, Fy=0, Mz=0):\n",
    "    tau_.value = np.array([Fx, Fy, Mz])\n",
    "    prob.solve()\n",
    "\n",
    "    #individual thruster forces\n",
    "    u = x.value[0:8]\n",
    "    u_1 = u[0:2]\n",
    "    u_2 = u[2:4]\n",
    "    u_3 = u[4:6]\n",
    "    u_4 = u[6:8]\n",
    "    #u = u_1 + u_2 + u_3 + u_4\n",
    "\n",
    "    plt.arrow(l1_y, l1_x, u_1[1], u_1[0], head_width=0.1, head_length=0.1, fc='k', ec='k')\n",
    "    plt.arrow(l2_y, l2_x, u_2[1], u_2[0], head_width=0.1, head_length=0.1, fc='k', ec='k')\n",
    "    plt.arrow(l3_y, l3_x, u_3[1], u_3[0], head_width=0.1, head_length=0.1, fc='k', ec='k')\n",
    "    plt.arrow(l4_y, l4_x, u_4[1], u_4[0], head_width=0.1, head_length=0.1, fc='k', ec='k')\n",
    "\n",
    "    plt.arrow(0, 0, u[1]/4, u[0]/4, head_width=0.1, head_length=0.1, fc='r', ec='r')\n",
    "    #limit axes\n",
    "    plt.xlim(-3, 3)\n",
    "    plt.ylim(-3, 3)\n",
    "\n",
    "    plt.grid()\n",
    "    plt.plot()\n",
    "\n"
   ]
  },
  {
   "cell_type": "code",
   "execution_count": 4,
   "metadata": {},
   "outputs": [
    {
     "data": {
      "application/vnd.jupyter.widget-view+json": {
       "model_id": "b5a5a26a0dc348bfa1711e69c615ef96",
       "version_major": 2,
       "version_minor": 0
      },
      "text/plain": [
       "interactive(children=(FloatSlider(value=0.0, description='Fx', max=7.0, min=-7.0), FloatSlider(value=0.0, desc…"
      ]
     },
     "metadata": {},
     "output_type": "display_data"
    },
    {
     "data": {
      "text/plain": [
       "<function __main__.plot_fcn(Fx=0, Fy=0, Mz=0)>"
      ]
     },
     "execution_count": 4,
     "metadata": {},
     "output_type": "execute_result"
    }
   ],
   "source": [
    "ipywidgets.interact(plot_fcn, Fx=(-7, 7, 0.1), Fy=(-7, 7, 0.1), Mz=(-7, 7, 0.1))"
   ]
  },
  {
   "attachments": {},
   "cell_type": "markdown",
   "metadata": {},
   "source": [
    "## psuedo-inverse approach\n",
    "Now, let's try to solve the same problem using the psuedo-inverse.\n",
    "We want to find a solution to the problem:\n",
    "$$\\vec{\\tau} = B\\vec{u} $$\n",
    "In a way that gives us the smallest control effort $\\vec{u}$.\n",
    "One way to do this is to minimize the \"norm\" of u. Specifically, we will minimize the function:\n",
    "$$\\sum_i {u_i}^2$$\n",
    "Solving this problem will minimize the sum of the vector components, which will hopefully minimize power consumption.\n",
    "An explicit solution to this least-squares problem is given by the moore-penrose psuedo-inverse.\n",
    "\n",
    "Specifically, the solution to $\\vec{\\tau} = B\\vec{u}$ which minimizes the norm of $\\vec{u}$, is given by:\n",
    "$$B^+\\vec{\\tau}$$ \n",
    "Where $B^+$ denotes the psuedo-inverse of B.\n",
    "\n",
    "The psuedo-inverse of B can be computed via the singular value decomposition(SVD) of B:\n",
    "$$B = U\\Sigma V^T$$\n",
    "$$B^+ = V\\Sigma^+ U^T$$\n",
    "\n",
    "Or, by simply using numpy's pinv metod. \n",
    "\n",
    "To enforce the constraint on maximum thruster force, we can simply check whether the psuedo-inverse solution violates the constraint, then normalize the thruster forces to avoid the violation.\n",
    "\n",
    "This approach is much faster than the QP formulation, as the we only have to compute the SVD once, and perform a single matrix multiplication and a few conditionals for each control allocation. The downside of the approach is that it's less flexible to more complicated constraints and considerations."
   ]
  },
  {
   "cell_type": "code",
   "execution_count": 4,
   "metadata": {},
   "outputs": [],
   "source": [
    "#compute the psuedo-inverse of B using the numpy pinv\n",
    "B_pinv = np.linalg.pinv(B)\n",
    "tau = np.array([[10],[10],[0]])\n",
    "u = B_pinv @ tau"
   ]
  },
  {
   "cell_type": "code",
   "execution_count": 5,
   "metadata": {},
   "outputs": [],
   "source": [
    "def plot_fcn_pinv(Fx=0, Fy=0, Mz=0):\n",
    "    tau = np.hstack([Fx, Fy, Mz])\n",
    "    u = B_pinv @ tau\n",
    "\n",
    "    #calculate the thrust pair forces\n",
    "    f = np.zeros(4)\n",
    "    for i in range(4):\n",
    "        f[i] = np.linalg.norm(u[2*i:2*i+2])\n",
    "    if np.max(f) > thruster_max:\n",
    "        u = u * thruster_max / np.max(f)\n",
    "\n",
    "    u_1 = u[0, 0:2]\n",
    "    u_2 = u[0, 2:4]\n",
    "    u_3 = u[0, 4:6]\n",
    "    u_4 = u[0, 6:8]\n",
    "\n",
    "\n",
    "    u = u_1 + u_2 + u_3 + u_4\n",
    "\n",
    "    plt.arrow(l1_y, l1_x, u_1[0, 1], u_1[0, 0], head_width=0.1, head_length=0.1, fc='k', ec='k')\n",
    "    plt.arrow(l2_y, l2_x, u_2[0, 1], u_2[0, 0], head_width=0.1, head_length=0.1, fc='k', ec='k')\n",
    "    plt.arrow(l3_y, l3_x, u_3[0, 1], u_3[0, 0], head_width=0.1, head_length=0.1, fc='k', ec='k')\n",
    "    plt.arrow(l4_y, l4_x, u_4[0, 1], u_4[0, 0], head_width=0.1, head_length=0.1, fc='k', ec='k')\n",
    "\n",
    "    plt.arrow(0, 0, u[0, 1]/4, u[0, 0]/4, head_width=0.1, head_length=0.1, fc='r', ec='r')\n",
    "    #limit axes\n",
    "    plt.xlim(-3, 3)\n",
    "    plt.ylim(-3, 3)\n",
    "\n",
    "    plt.grid()\n",
    "    plt.plot()\n"
   ]
  },
  {
   "cell_type": "code",
   "execution_count": 6,
   "metadata": {},
   "outputs": [
    {
     "data": {
      "application/vnd.jupyter.widget-view+json": {
       "model_id": "4999ae6b095c4ca8b84709d1add304d3",
       "version_major": 2,
       "version_minor": 0
      },
      "text/plain": [
       "interactive(children=(FloatSlider(value=0.0, description='Fx', max=7.0, min=-7.0), FloatSlider(value=0.0, desc…"
      ]
     },
     "metadata": {},
     "output_type": "display_data"
    },
    {
     "data": {
      "text/plain": [
       "<function __main__.plot_fcn_pinv(Fx=0, Fy=0, Mz=0)>"
      ]
     },
     "execution_count": 6,
     "metadata": {},
     "output_type": "execute_result"
    }
   ],
   "source": [
    "ipywidgets.interact(plot_fcn_pinv, Fx=(-7, 7, 0.1), Fy=(-7, 7, 0.1), Mz=(-7, 7, 0.1))"
   ]
  }
 ],
 "metadata": {
  "kernelspec": {
   "display_name": "general_venv",
   "language": "python",
   "name": "python3"
  },
  "language_info": {
   "codemirror_mode": {
    "name": "ipython",
    "version": 3
   },
   "file_extension": ".py",
   "mimetype": "text/x-python",
   "name": "python",
   "nbconvert_exporter": "python",
   "pygments_lexer": "ipython3",
   "version": "3.10.6"
  },
  "orig_nbformat": 4
 },
 "nbformat": 4,
 "nbformat_minor": 2
}
